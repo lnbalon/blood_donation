{
 "cells": [
  {
   "cell_type": "markdown",
   "metadata": {},
   "source": [
    "## Introduction\n",
    "\n",
    "DrivenData.org hosts online challenges where the global data science community competes to create the best algorithms to solve some of the world's daunting social challenges. In short, this is Kaggle with a conscience. Today, I'm taking on their warm-up exercise: the blood donation prediction challenge. \n",
    "\n",
    "The project has one goal, predict whether a person will donate blood in March 2007 given four factors: number months since last donation, number of previous donations, total volume donated, and the number of months since first donation. Submissions will be evaluated using log loss. "
   ]
  },
  {
   "cell_type": "code",
   "execution_count": 1,
   "metadata": {},
   "outputs": [],
   "source": [
    "# import modules\n",
    "import pandas as pd\n",
    "import numpy as np\n",
    "import matplotlib.pyplot as plt\n",
    "import seaborn as sns\n",
    "from IPython.display import display, HTML\n",
    "\n",
    "sns.set_style(\"white\")\n",
    "%matplotlib inline"
   ]
  },
  {
   "cell_type": "code",
   "execution_count": 2,
   "metadata": {},
   "outputs": [
    {
     "data": {
      "text/html": [
       "<div>\n",
       "<style scoped>\n",
       "    .dataframe tbody tr th:only-of-type {\n",
       "        vertical-align: middle;\n",
       "    }\n",
       "\n",
       "    .dataframe tbody tr th {\n",
       "        vertical-align: top;\n",
       "    }\n",
       "\n",
       "    .dataframe thead th {\n",
       "        text-align: right;\n",
       "    }\n",
       "</style>\n",
       "<table border=\"1\" class=\"dataframe\">\n",
       "  <thead>\n",
       "    <tr style=\"text-align: right;\">\n",
       "      <th></th>\n",
       "      <th>months_since_last</th>\n",
       "      <th>num_donations</th>\n",
       "      <th>tot_volume_cc</th>\n",
       "      <th>months_since_first</th>\n",
       "      <th>donated_march_2017</th>\n",
       "    </tr>\n",
       "  </thead>\n",
       "  <tbody>\n",
       "    <tr>\n",
       "      <th>619</th>\n",
       "      <td>2</td>\n",
       "      <td>50</td>\n",
       "      <td>12500</td>\n",
       "      <td>98</td>\n",
       "      <td>1</td>\n",
       "    </tr>\n",
       "    <tr>\n",
       "      <th>664</th>\n",
       "      <td>0</td>\n",
       "      <td>13</td>\n",
       "      <td>3250</td>\n",
       "      <td>28</td>\n",
       "      <td>1</td>\n",
       "    </tr>\n",
       "    <tr>\n",
       "      <th>441</th>\n",
       "      <td>1</td>\n",
       "      <td>16</td>\n",
       "      <td>4000</td>\n",
       "      <td>35</td>\n",
       "      <td>1</td>\n",
       "    </tr>\n",
       "    <tr>\n",
       "      <th>160</th>\n",
       "      <td>2</td>\n",
       "      <td>20</td>\n",
       "      <td>5000</td>\n",
       "      <td>45</td>\n",
       "      <td>1</td>\n",
       "    </tr>\n",
       "    <tr>\n",
       "      <th>358</th>\n",
       "      <td>1</td>\n",
       "      <td>24</td>\n",
       "      <td>6000</td>\n",
       "      <td>77</td>\n",
       "      <td>0</td>\n",
       "    </tr>\n",
       "    <tr>\n",
       "      <th>335</th>\n",
       "      <td>4</td>\n",
       "      <td>4</td>\n",
       "      <td>1000</td>\n",
       "      <td>4</td>\n",
       "      <td>0</td>\n",
       "    </tr>\n",
       "    <tr>\n",
       "      <th>47</th>\n",
       "      <td>2</td>\n",
       "      <td>7</td>\n",
       "      <td>1750</td>\n",
       "      <td>14</td>\n",
       "      <td>1</td>\n",
       "    </tr>\n",
       "    <tr>\n",
       "      <th>164</th>\n",
       "      <td>1</td>\n",
       "      <td>12</td>\n",
       "      <td>3000</td>\n",
       "      <td>35</td>\n",
       "      <td>0</td>\n",
       "    </tr>\n",
       "    <tr>\n",
       "      <th>736</th>\n",
       "      <td>5</td>\n",
       "      <td>46</td>\n",
       "      <td>11500</td>\n",
       "      <td>98</td>\n",
       "      <td>1</td>\n",
       "    </tr>\n",
       "    <tr>\n",
       "      <th>436</th>\n",
       "      <td>0</td>\n",
       "      <td>3</td>\n",
       "      <td>750</td>\n",
       "      <td>4</td>\n",
       "      <td>0</td>\n",
       "    </tr>\n",
       "  </tbody>\n",
       "</table>\n",
       "</div>"
      ],
      "text/plain": [
       "     months_since_last  num_donations  tot_volume_cc  months_since_first  \\\n",
       "619                  2             50          12500                  98   \n",
       "664                  0             13           3250                  28   \n",
       "441                  1             16           4000                  35   \n",
       "160                  2             20           5000                  45   \n",
       "358                  1             24           6000                  77   \n",
       "335                  4              4           1000                   4   \n",
       "47                   2              7           1750                  14   \n",
       "164                  1             12           3000                  35   \n",
       "736                  5             46          11500                  98   \n",
       "436                  0              3            750                   4   \n",
       "\n",
       "     donated_march_2017  \n",
       "619                   1  \n",
       "664                   1  \n",
       "441                   1  \n",
       "160                   1  \n",
       "358                   0  \n",
       "335                   0  \n",
       "47                    1  \n",
       "164                   0  \n",
       "736                   1  \n",
       "436                   0  "
      ]
     },
     "execution_count": 2,
     "metadata": {},
     "output_type": "execute_result"
    }
   ],
   "source": [
    "# read the train \n",
    "train = pd.read_csv('training.csv', index_col =0)\n",
    "train.columns = ['months_since_last','num_donations', 'tot_volume_cc', 'months_since_first', 'donated_march_2017']\n",
    "train.head(10)"
   ]
  },
  {
   "cell_type": "code",
   "execution_count": 3,
   "metadata": {},
   "outputs": [
    {
     "data": {
      "text/html": [
       "<div>\n",
       "<style scoped>\n",
       "    .dataframe tbody tr th:only-of-type {\n",
       "        vertical-align: middle;\n",
       "    }\n",
       "\n",
       "    .dataframe tbody tr th {\n",
       "        vertical-align: top;\n",
       "    }\n",
       "\n",
       "    .dataframe thead th {\n",
       "        text-align: right;\n",
       "    }\n",
       "</style>\n",
       "<table border=\"1\" class=\"dataframe\">\n",
       "  <thead>\n",
       "    <tr style=\"text-align: right;\">\n",
       "      <th></th>\n",
       "      <th>months_since_last</th>\n",
       "      <th>num_donations</th>\n",
       "      <th>tot_volume_cc</th>\n",
       "      <th>months_since_first</th>\n",
       "      <th>donated_march_2017</th>\n",
       "    </tr>\n",
       "  </thead>\n",
       "  <tbody>\n",
       "    <tr>\n",
       "      <th>619</th>\n",
       "      <td>2</td>\n",
       "      <td>50</td>\n",
       "      <td>12500</td>\n",
       "      <td>98</td>\n",
       "      <td>1</td>\n",
       "    </tr>\n",
       "    <tr>\n",
       "      <th>664</th>\n",
       "      <td>0</td>\n",
       "      <td>13</td>\n",
       "      <td>3250</td>\n",
       "      <td>28</td>\n",
       "      <td>1</td>\n",
       "    </tr>\n",
       "    <tr>\n",
       "      <th>441</th>\n",
       "      <td>1</td>\n",
       "      <td>16</td>\n",
       "      <td>4000</td>\n",
       "      <td>35</td>\n",
       "      <td>1</td>\n",
       "    </tr>\n",
       "    <tr>\n",
       "      <th>160</th>\n",
       "      <td>2</td>\n",
       "      <td>20</td>\n",
       "      <td>5000</td>\n",
       "      <td>45</td>\n",
       "      <td>1</td>\n",
       "    </tr>\n",
       "    <tr>\n",
       "      <th>358</th>\n",
       "      <td>1</td>\n",
       "      <td>24</td>\n",
       "      <td>6000</td>\n",
       "      <td>77</td>\n",
       "      <td>0</td>\n",
       "    </tr>\n",
       "    <tr>\n",
       "      <th>335</th>\n",
       "      <td>4</td>\n",
       "      <td>4</td>\n",
       "      <td>1000</td>\n",
       "      <td>4</td>\n",
       "      <td>0</td>\n",
       "    </tr>\n",
       "    <tr>\n",
       "      <th>47</th>\n",
       "      <td>2</td>\n",
       "      <td>7</td>\n",
       "      <td>1750</td>\n",
       "      <td>14</td>\n",
       "      <td>1</td>\n",
       "    </tr>\n",
       "    <tr>\n",
       "      <th>164</th>\n",
       "      <td>1</td>\n",
       "      <td>12</td>\n",
       "      <td>3000</td>\n",
       "      <td>35</td>\n",
       "      <td>0</td>\n",
       "    </tr>\n",
       "    <tr>\n",
       "      <th>736</th>\n",
       "      <td>5</td>\n",
       "      <td>46</td>\n",
       "      <td>11500</td>\n",
       "      <td>98</td>\n",
       "      <td>1</td>\n",
       "    </tr>\n",
       "    <tr>\n",
       "      <th>436</th>\n",
       "      <td>0</td>\n",
       "      <td>3</td>\n",
       "      <td>750</td>\n",
       "      <td>4</td>\n",
       "      <td>0</td>\n",
       "    </tr>\n",
       "  </tbody>\n",
       "</table>\n",
       "</div>"
      ],
      "text/plain": [
       "     months_since_last  num_donations  tot_volume_cc  months_since_first  \\\n",
       "619                  2             50          12500                  98   \n",
       "664                  0             13           3250                  28   \n",
       "441                  1             16           4000                  35   \n",
       "160                  2             20           5000                  45   \n",
       "358                  1             24           6000                  77   \n",
       "335                  4              4           1000                   4   \n",
       "47                   2              7           1750                  14   \n",
       "164                  1             12           3000                  35   \n",
       "736                  5             46          11500                  98   \n",
       "436                  0              3            750                   4   \n",
       "\n",
       "     donated_march_2017  \n",
       "619                   1  \n",
       "664                   1  \n",
       "441                   1  \n",
       "160                   1  \n",
       "358                   0  \n",
       "335                   0  \n",
       "47                    1  \n",
       "164                   0  \n",
       "736                   1  \n",
       "436                   0  "
      ]
     },
     "execution_count": 3,
     "metadata": {},
     "output_type": "execute_result"
    }
   ],
   "source": [
    "train.head(10)"
   ]
  },
  {
   "cell_type": "code",
   "execution_count": 4,
   "metadata": {},
   "outputs": [
    {
     "data": {
      "text/plain": [
       "(576, 5)"
      ]
     },
     "execution_count": 4,
     "metadata": {},
     "output_type": "execute_result"
    }
   ],
   "source": [
    "train.shape"
   ]
  },
  {
   "cell_type": "code",
   "execution_count": 5,
   "metadata": {},
   "outputs": [
    {
     "data": {
      "text/html": [
       "<div>\n",
       "<style scoped>\n",
       "    .dataframe tbody tr th:only-of-type {\n",
       "        vertical-align: middle;\n",
       "    }\n",
       "\n",
       "    .dataframe tbody tr th {\n",
       "        vertical-align: top;\n",
       "    }\n",
       "\n",
       "    .dataframe thead th {\n",
       "        text-align: right;\n",
       "    }\n",
       "</style>\n",
       "<table border=\"1\" class=\"dataframe\">\n",
       "  <thead>\n",
       "    <tr style=\"text-align: right;\">\n",
       "      <th></th>\n",
       "      <th>months_since_last</th>\n",
       "      <th>num_donations</th>\n",
       "      <th>tot_volume_cc</th>\n",
       "      <th>months_since_first</th>\n",
       "      <th>donated_march_2017</th>\n",
       "    </tr>\n",
       "  </thead>\n",
       "  <tbody>\n",
       "    <tr>\n",
       "      <th>count</th>\n",
       "      <td>576.000000</td>\n",
       "      <td>576.000000</td>\n",
       "      <td>576.000000</td>\n",
       "      <td>576.000000</td>\n",
       "      <td>576.000000</td>\n",
       "    </tr>\n",
       "    <tr>\n",
       "      <th>mean</th>\n",
       "      <td>9.439236</td>\n",
       "      <td>5.427083</td>\n",
       "      <td>1356.770833</td>\n",
       "      <td>34.050347</td>\n",
       "      <td>0.239583</td>\n",
       "    </tr>\n",
       "    <tr>\n",
       "      <th>std</th>\n",
       "      <td>8.175454</td>\n",
       "      <td>5.740010</td>\n",
       "      <td>1435.002556</td>\n",
       "      <td>24.227672</td>\n",
       "      <td>0.427200</td>\n",
       "    </tr>\n",
       "    <tr>\n",
       "      <th>min</th>\n",
       "      <td>0.000000</td>\n",
       "      <td>1.000000</td>\n",
       "      <td>250.000000</td>\n",
       "      <td>2.000000</td>\n",
       "      <td>0.000000</td>\n",
       "    </tr>\n",
       "    <tr>\n",
       "      <th>25%</th>\n",
       "      <td>2.000000</td>\n",
       "      <td>2.000000</td>\n",
       "      <td>500.000000</td>\n",
       "      <td>16.000000</td>\n",
       "      <td>0.000000</td>\n",
       "    </tr>\n",
       "    <tr>\n",
       "      <th>50%</th>\n",
       "      <td>7.000000</td>\n",
       "      <td>4.000000</td>\n",
       "      <td>1000.000000</td>\n",
       "      <td>28.000000</td>\n",
       "      <td>0.000000</td>\n",
       "    </tr>\n",
       "    <tr>\n",
       "      <th>75%</th>\n",
       "      <td>14.000000</td>\n",
       "      <td>7.000000</td>\n",
       "      <td>1750.000000</td>\n",
       "      <td>49.250000</td>\n",
       "      <td>0.000000</td>\n",
       "    </tr>\n",
       "    <tr>\n",
       "      <th>max</th>\n",
       "      <td>74.000000</td>\n",
       "      <td>50.000000</td>\n",
       "      <td>12500.000000</td>\n",
       "      <td>98.000000</td>\n",
       "      <td>1.000000</td>\n",
       "    </tr>\n",
       "  </tbody>\n",
       "</table>\n",
       "</div>"
      ],
      "text/plain": [
       "       months_since_last  num_donations  tot_volume_cc  months_since_first  \\\n",
       "count         576.000000     576.000000     576.000000          576.000000   \n",
       "mean            9.439236       5.427083    1356.770833           34.050347   \n",
       "std             8.175454       5.740010    1435.002556           24.227672   \n",
       "min             0.000000       1.000000     250.000000            2.000000   \n",
       "25%             2.000000       2.000000     500.000000           16.000000   \n",
       "50%             7.000000       4.000000    1000.000000           28.000000   \n",
       "75%            14.000000       7.000000    1750.000000           49.250000   \n",
       "max            74.000000      50.000000   12500.000000           98.000000   \n",
       "\n",
       "       donated_march_2017  \n",
       "count          576.000000  \n",
       "mean             0.239583  \n",
       "std              0.427200  \n",
       "min              0.000000  \n",
       "25%              0.000000  \n",
       "50%              0.000000  \n",
       "75%              0.000000  \n",
       "max              1.000000  "
      ]
     },
     "execution_count": 5,
     "metadata": {},
     "output_type": "execute_result"
    }
   ],
   "source": [
    "train.describe()"
   ]
  },
  {
   "cell_type": "code",
   "execution_count": 6,
   "metadata": {},
   "outputs": [
    {
     "data": {
      "text/html": [
       "<div>\n",
       "<style scoped>\n",
       "    .dataframe tbody tr th:only-of-type {\n",
       "        vertical-align: middle;\n",
       "    }\n",
       "\n",
       "    .dataframe tbody tr th {\n",
       "        vertical-align: top;\n",
       "    }\n",
       "\n",
       "    .dataframe thead th {\n",
       "        text-align: right;\n",
       "    }\n",
       "</style>\n",
       "<table border=\"1\" class=\"dataframe\">\n",
       "  <thead>\n",
       "    <tr style=\"text-align: right;\">\n",
       "      <th></th>\n",
       "      <th>months_since_last</th>\n",
       "      <th>num_donations</th>\n",
       "      <th>tot_volume_cc</th>\n",
       "      <th>months_since_first</th>\n",
       "    </tr>\n",
       "  </thead>\n",
       "  <tbody>\n",
       "    <tr>\n",
       "      <th>659</th>\n",
       "      <td>2</td>\n",
       "      <td>12</td>\n",
       "      <td>3000</td>\n",
       "      <td>52</td>\n",
       "    </tr>\n",
       "    <tr>\n",
       "      <th>276</th>\n",
       "      <td>21</td>\n",
       "      <td>7</td>\n",
       "      <td>1750</td>\n",
       "      <td>38</td>\n",
       "    </tr>\n",
       "    <tr>\n",
       "      <th>263</th>\n",
       "      <td>4</td>\n",
       "      <td>1</td>\n",
       "      <td>250</td>\n",
       "      <td>4</td>\n",
       "    </tr>\n",
       "    <tr>\n",
       "      <th>303</th>\n",
       "      <td>11</td>\n",
       "      <td>11</td>\n",
       "      <td>2750</td>\n",
       "      <td>38</td>\n",
       "    </tr>\n",
       "    <tr>\n",
       "      <th>83</th>\n",
       "      <td>4</td>\n",
       "      <td>12</td>\n",
       "      <td>3000</td>\n",
       "      <td>34</td>\n",
       "    </tr>\n",
       "    <tr>\n",
       "      <th>500</th>\n",
       "      <td>3</td>\n",
       "      <td>21</td>\n",
       "      <td>5250</td>\n",
       "      <td>42</td>\n",
       "    </tr>\n",
       "    <tr>\n",
       "      <th>530</th>\n",
       "      <td>4</td>\n",
       "      <td>2</td>\n",
       "      <td>500</td>\n",
       "      <td>4</td>\n",
       "    </tr>\n",
       "    <tr>\n",
       "      <th>244</th>\n",
       "      <td>14</td>\n",
       "      <td>1</td>\n",
       "      <td>250</td>\n",
       "      <td>14</td>\n",
       "    </tr>\n",
       "    <tr>\n",
       "      <th>249</th>\n",
       "      <td>23</td>\n",
       "      <td>2</td>\n",
       "      <td>500</td>\n",
       "      <td>87</td>\n",
       "    </tr>\n",
       "    <tr>\n",
       "      <th>728</th>\n",
       "      <td>14</td>\n",
       "      <td>4</td>\n",
       "      <td>1000</td>\n",
       "      <td>64</td>\n",
       "    </tr>\n",
       "  </tbody>\n",
       "</table>\n",
       "</div>"
      ],
      "text/plain": [
       "     months_since_last  num_donations  tot_volume_cc  months_since_first\n",
       "659                  2             12           3000                  52\n",
       "276                 21              7           1750                  38\n",
       "263                  4              1            250                   4\n",
       "303                 11             11           2750                  38\n",
       "83                   4             12           3000                  34\n",
       "500                  3             21           5250                  42\n",
       "530                  4              2            500                   4\n",
       "244                 14              1            250                  14\n",
       "249                 23              2            500                  87\n",
       "728                 14              4           1000                  64"
      ]
     },
     "execution_count": 6,
     "metadata": {},
     "output_type": "execute_result"
    }
   ],
   "source": [
    "# read the test \n",
    "test = pd.read_csv('test.csv', index_col =0)\n",
    "test.columns = ['months_since_last','num_donations', 'tot_volume_cc', 'months_since_first']\n",
    "test.head(10)"
   ]
  },
  {
   "cell_type": "code",
   "execution_count": 7,
   "metadata": {},
   "outputs": [
    {
     "data": {
      "text/plain": [
       "(200, 4)"
      ]
     },
     "execution_count": 7,
     "metadata": {},
     "output_type": "execute_result"
    }
   ],
   "source": [
    "test.shape"
   ]
  },
  {
   "cell_type": "code",
   "execution_count": 8,
   "metadata": {},
   "outputs": [
    {
     "data": {
      "text/html": [
       "<div>\n",
       "<style scoped>\n",
       "    .dataframe tbody tr th:only-of-type {\n",
       "        vertical-align: middle;\n",
       "    }\n",
       "\n",
       "    .dataframe tbody tr th {\n",
       "        vertical-align: top;\n",
       "    }\n",
       "\n",
       "    .dataframe thead th {\n",
       "        text-align: right;\n",
       "    }\n",
       "</style>\n",
       "<table border=\"1\" class=\"dataframe\">\n",
       "  <thead>\n",
       "    <tr style=\"text-align: right;\">\n",
       "      <th></th>\n",
       "      <th>months_since_last</th>\n",
       "      <th>num_donations</th>\n",
       "      <th>tot_volume_cc</th>\n",
       "      <th>months_since_first</th>\n",
       "    </tr>\n",
       "  </thead>\n",
       "  <tbody>\n",
       "    <tr>\n",
       "      <th>count</th>\n",
       "      <td>200.00000</td>\n",
       "      <td>200.000000</td>\n",
       "      <td>200.000000</td>\n",
       "      <td>200.000000</td>\n",
       "    </tr>\n",
       "    <tr>\n",
       "      <th>mean</th>\n",
       "      <td>9.49500</td>\n",
       "      <td>5.935000</td>\n",
       "      <td>1483.750000</td>\n",
       "      <td>35.475000</td>\n",
       "    </tr>\n",
       "    <tr>\n",
       "      <th>std</th>\n",
       "      <td>7.61907</td>\n",
       "      <td>6.125224</td>\n",
       "      <td>1531.305955</td>\n",
       "      <td>25.111197</td>\n",
       "    </tr>\n",
       "    <tr>\n",
       "      <th>min</th>\n",
       "      <td>0.00000</td>\n",
       "      <td>1.000000</td>\n",
       "      <td>250.000000</td>\n",
       "      <td>2.000000</td>\n",
       "    </tr>\n",
       "    <tr>\n",
       "      <th>25%</th>\n",
       "      <td>4.00000</td>\n",
       "      <td>2.000000</td>\n",
       "      <td>500.000000</td>\n",
       "      <td>14.000000</td>\n",
       "    </tr>\n",
       "    <tr>\n",
       "      <th>50%</th>\n",
       "      <td>7.00000</td>\n",
       "      <td>4.000000</td>\n",
       "      <td>1000.000000</td>\n",
       "      <td>31.000000</td>\n",
       "    </tr>\n",
       "    <tr>\n",
       "      <th>75%</th>\n",
       "      <td>14.00000</td>\n",
       "      <td>8.000000</td>\n",
       "      <td>2000.000000</td>\n",
       "      <td>52.000000</td>\n",
       "    </tr>\n",
       "    <tr>\n",
       "      <th>max</th>\n",
       "      <td>40.00000</td>\n",
       "      <td>41.000000</td>\n",
       "      <td>10250.000000</td>\n",
       "      <td>98.000000</td>\n",
       "    </tr>\n",
       "  </tbody>\n",
       "</table>\n",
       "</div>"
      ],
      "text/plain": [
       "       months_since_last  num_donations  tot_volume_cc  months_since_first\n",
       "count          200.00000     200.000000     200.000000          200.000000\n",
       "mean             9.49500       5.935000    1483.750000           35.475000\n",
       "std              7.61907       6.125224    1531.305955           25.111197\n",
       "min              0.00000       1.000000     250.000000            2.000000\n",
       "25%              4.00000       2.000000     500.000000           14.000000\n",
       "50%              7.00000       4.000000    1000.000000           31.000000\n",
       "75%             14.00000       8.000000    2000.000000           52.000000\n",
       "max             40.00000      41.000000   10250.000000           98.000000"
      ]
     },
     "execution_count": 8,
     "metadata": {},
     "output_type": "execute_result"
    }
   ],
   "source": [
    "test.describe()"
   ]
  },
  {
   "cell_type": "markdown",
   "metadata": {},
   "source": [
    "## Initial Impression\n",
    "\n",
    "Wow! The training, and test sets contains no missing values, and already converted into numeric data types. So let's explore further. "
   ]
  },
  {
   "cell_type": "code",
   "execution_count": 9,
   "metadata": {},
   "outputs": [
    {
     "data": {
      "image/png": "[encoded data removed]",
      "text/plain": [
       "<Figure size 576x288 with 2 Axes>"
      ]
     },
     "metadata": {},
     "output_type": "display_data"
    }
   ],
   "source": [
    "# create a boxplot comparing the months since last donation columns of the test and train sets\n",
    "\n",
    "sns.set_style('ticks')\n",
    "fig, ax= plt.subplots(1,2,sharey=True)\n",
    "fig.set_size_inches(8, 4)\n",
    "\n",
    "plt.subplot(1,2,1)\n",
    "sns.boxplot( y=train['months_since_last'])\n",
    "plt.ylim(0,)\n",
    "plt.title('Train')\n",
    "\n",
    "plt.subplot(1,2,2)\n",
    "sns.boxplot(y=test['months_since_last'])\n",
    "plt.ylim(0,80)\n",
    "plt.title('Test')\n",
    "\n",
    "plt.tight_layout()\n",
    "plt.savefig('images/since_last_train_test.png')\n",
    "plt.show()"
   ]
  },
  {
   "cell_type": "code",
   "execution_count": 10,
   "metadata": {},
   "outputs": [
    {
     "data": {
      "image/png": "[encoded data removed]",
      "text/plain": [
       "<Figure size 576x288 with 2 Axes>"
      ]
     },
     "metadata": {},
     "output_type": "display_data"
    }
   ],
   "source": [
    "# create a boxplot comparing the months since first donation columns of the test and train sets\n",
    "\n",
    "sns.set_style('ticks')\n",
    "fig, ax= plt.subplots(1,2,sharey=True)\n",
    "fig.set_size_inches(8, 4)\n",
    "\n",
    "plt.subplot(1,2,1)\n",
    "sns.boxplot( y=train['months_since_first'])\n",
    "plt.ylim(0,120)\n",
    "plt.title('Train')\n",
    "\n",
    "plt.subplot(1,2,2)\n",
    "sns.boxplot(y=test['months_since_first'])\n",
    "plt.ylim(0,120)\n",
    "plt.title('Test')\n",
    "\n",
    "plt.tight_layout()\n",
    "plt.savefig('images/since_first_train_test.png')\n",
    "plt.show()"
   ]
  },
  {
   "cell_type": "code",
   "execution_count": 11,
   "metadata": {},
   "outputs": [
    {
     "data": {
      "image/png": "[encoded data removed]",
      "text/plain": [
       "<Figure size 576x288 with 2 Axes>"
      ]
     },
     "metadata": {},
     "output_type": "display_data"
    }
   ],
   "source": [
    "# create a boxplot comparing the volume columns of the test and train sets\n",
    "\n",
    "sns.set_style('ticks')\n",
    "fig, ax= plt.subplots(1,2,sharey=True)\n",
    "fig.set_size_inches(8, 4)\n",
    "\n",
    "plt.subplot(1,2,1)\n",
    "sns.boxplot( y=train['tot_volume_cc'])\n",
    "plt.ylim(0,12000)\n",
    "plt.title('Train')\n",
    "\n",
    "plt.subplot(1,2,2)\n",
    "sns.boxplot(y=test['tot_volume_cc'])\n",
    "plt.ylim(0,12000)\n",
    "plt.title('Test')\n",
    "\n",
    "plt.tight_layout()\n",
    "plt.savefig('images/volume_train_test.png')\n",
    "plt.show()"
   ]
  },
  {
   "cell_type": "code",
   "execution_count": 12,
   "metadata": {},
   "outputs": [
    {
     "data": {
      "image/png": "[encoded data removed]",
      "text/plain": [
       "<Figure size 720x432 with 1 Axes>"
      ]
     },
     "metadata": {},
     "output_type": "display_data"
    }
   ],
   "source": [
    "# create a KDE plot of the number of donations for the train and test sets\n",
    "\n",
    "fig, ax= plt.subplots()\n",
    "fig.set_size_inches(10, 6)\n",
    "p1=sns.kdeplot(train['num_donations'], shade=True, color=\"r\", label='train')\n",
    "p1=sns.kdeplot(test['num_donations'], shade=True, color=\"b\", label='test')\n",
    "plt.legend()\n",
    "plt.tight_layout()\n",
    "plt.savefig('images/num_donations_train_test.png')\n",
    "plt.show()\n"
   ]
  },
  {
   "cell_type": "code",
   "execution_count": 13,
   "metadata": {},
   "outputs": [],
   "source": [
    "donated = train[train['donated_march_2017'] == 1]\n",
    "didnot_donate = train[train['donated_march_2017'] == 0]"
   ]
  },
  {
   "cell_type": "code",
   "execution_count": 14,
   "metadata": {},
   "outputs": [
    {
     "data": {
      "image/png": "[encoded data removed]",
      "text/plain": [
       "<Figure size 720x432 with 1 Axes>"
      ]
     },
     "metadata": {},
     "output_type": "display_data"
    }
   ],
   "source": [
    "# create a KDE plot of the number of donations for those that donate and those that did not\n",
    "\n",
    "fig, ax= plt.subplots()\n",
    "fig.set_size_inches(10, 6)\n",
    "p1=sns.kdeplot(donated['num_donations'], shade=True, color=\"r\", label='Donated')\n",
    "p1=sns.kdeplot(didnot_donate['num_donations'], shade=True, color=\"b\", label='Did not donate')\n",
    "plt.legend()\n",
    "plt.tight_layout()\n",
    "plt.savefig('images/num_donations_donated_didnot.png')\n",
    "plt.show()"
   ]
  },
  {
   "cell_type": "code",
   "execution_count": 15,
   "metadata": {},
   "outputs": [
    {
     "data": {
      "image/png": "[encoded data removed]",
      "text/plain": [
       "<Figure size 576x288 with 2 Axes>"
      ]
     },
     "metadata": {},
     "output_type": "display_data"
    }
   ],
   "source": [
    "# create a boxplot comparing the months since first donation columns of those that donate vs those that did not\n",
    "\n",
    "sns.set_style('ticks')\n",
    "fig, ax= plt.subplots(1,2,sharey=True)\n",
    "fig.set_size_inches(8, 4)\n",
    "\n",
    "plt.subplot(1,2,1)\n",
    "sns.boxplot( y=donated['months_since_first'])\n",
    "plt.ylim(0,120)\n",
    "plt.title('donated')\n",
    "\n",
    "plt.subplot(1,2,2)\n",
    "sns.boxplot(y=didnot_donate['months_since_first'])\n",
    "plt.ylim(0,120)\n",
    "plt.title('Did not donate')\n",
    "\n",
    "plt.tight_layout()\n",
    "plt.savefig('images/since_first_donated_didnot.png')\n",
    "plt.show()"
   ]
  },
  {
   "cell_type": "code",
   "execution_count": 16,
   "metadata": {},
   "outputs": [
    {
     "data": {
      "image/png": "[encoded data removed]",
      "text/plain": [
       "<Figure size 576x288 with 2 Axes>"
      ]
     },
     "metadata": {},
     "output_type": "display_data"
    }
   ],
   "source": [
    "# create a boxplot comparing the months since last donation columns of those that donate vs those that did not\n",
    "\n",
    "sns.set_style('ticks')\n",
    "fig, ax= plt.subplots(1,2,sharey=True)\n",
    "fig.set_size_inches(8, 4)\n",
    "\n",
    "plt.subplot(1,2,1)\n",
    "sns.boxplot( y=donated['months_since_last'])\n",
    "plt.ylim(0,100)\n",
    "plt.title('Donated')\n",
    "\n",
    "plt.subplot(1,2,2)\n",
    "sns.boxplot(y=didnot_donate['months_since_first'])\n",
    "plt.ylim(0,100)\n",
    "plt.title('Did not donate')\n",
    "\n",
    "plt.tight_layout()\n",
    "plt.savefig('images/since_last_donated_didnot.png')\n",
    "plt.show()"
   ]
  },
  {
   "cell_type": "code",
   "execution_count": 17,
   "metadata": {},
   "outputs": [
    {
     "data": {
      "image/png": "[encoded data removed]",
      "text/plain": [
       "<Figure size 576x288 with 2 Axes>"
      ]
     },
     "metadata": {},
     "output_type": "display_data"
    }
   ],
   "source": [
    "# create a boxplot comparing the volume columns of the test and train sets\n",
    "\n",
    "sns.set_style('ticks')\n",
    "fig, ax= plt.subplots(1,2,sharey=True)\n",
    "fig.set_size_inches(8, 4)\n",
    "\n",
    "plt.subplot(1,2,1)\n",
    "sns.boxplot( y=donated['tot_volume_cc'])\n",
    "plt.ylim(0,12000)\n",
    "plt.title('Donated')\n",
    "\n",
    "plt.subplot(1,2,2)\n",
    "sns.boxplot(y=didnot_donate['tot_volume_cc'])\n",
    "plt.ylim(0,12000)\n",
    "plt.title('Did not donate')\n",
    "\n",
    "plt.tight_layout()\n",
    "plt.savefig('images/volume_donated_didnot.png')\n",
    "plt.show()"
   ]
  },
  {
   "cell_type": "markdown",
   "metadata": {},
   "source": [
    "## Engineer new feature"
   ]
  },
  {
   "cell_type": "code",
   "execution_count": 18,
   "metadata": {},
   "outputs": [
    {
     "data": {
      "text/html": [
       "<div>\n",
       "<style scoped>\n",
       "    .dataframe tbody tr th:only-of-type {\n",
       "        vertical-align: middle;\n",
       "    }\n",
       "\n",
       "    .dataframe tbody tr th {\n",
       "        vertical-align: top;\n",
       "    }\n",
       "\n",
       "    .dataframe thead th {\n",
       "        text-align: right;\n",
       "    }\n",
       "</style>\n",
       "<table border=\"1\" class=\"dataframe\">\n",
       "  <thead>\n",
       "    <tr style=\"text-align: right;\">\n",
       "      <th></th>\n",
       "      <th>months_since_last</th>\n",
       "      <th>num_donations</th>\n",
       "      <th>tot_volume_cc</th>\n",
       "      <th>months_since_first</th>\n",
       "      <th>donated_march_2017</th>\n",
       "      <th>fraction_month</th>\n",
       "    </tr>\n",
       "  </thead>\n",
       "  <tbody>\n",
       "    <tr>\n",
       "      <th>619</th>\n",
       "      <td>2</td>\n",
       "      <td>50</td>\n",
       "      <td>12500</td>\n",
       "      <td>98</td>\n",
       "      <td>1</td>\n",
       "      <td>0.510204</td>\n",
       "    </tr>\n",
       "    <tr>\n",
       "      <th>664</th>\n",
       "      <td>0</td>\n",
       "      <td>13</td>\n",
       "      <td>3250</td>\n",
       "      <td>28</td>\n",
       "      <td>1</td>\n",
       "      <td>0.464286</td>\n",
       "    </tr>\n",
       "    <tr>\n",
       "      <th>441</th>\n",
       "      <td>1</td>\n",
       "      <td>16</td>\n",
       "      <td>4000</td>\n",
       "      <td>35</td>\n",
       "      <td>1</td>\n",
       "      <td>0.457143</td>\n",
       "    </tr>\n",
       "    <tr>\n",
       "      <th>160</th>\n",
       "      <td>2</td>\n",
       "      <td>20</td>\n",
       "      <td>5000</td>\n",
       "      <td>45</td>\n",
       "      <td>1</td>\n",
       "      <td>0.444444</td>\n",
       "    </tr>\n",
       "    <tr>\n",
       "      <th>358</th>\n",
       "      <td>1</td>\n",
       "      <td>24</td>\n",
       "      <td>6000</td>\n",
       "      <td>77</td>\n",
       "      <td>0</td>\n",
       "      <td>0.311688</td>\n",
       "    </tr>\n",
       "  </tbody>\n",
       "</table>\n",
       "</div>"
      ],
      "text/plain": [
       "     months_since_last  num_donations  tot_volume_cc  months_since_first  \\\n",
       "619                  2             50          12500                  98   \n",
       "664                  0             13           3250                  28   \n",
       "441                  1             16           4000                  35   \n",
       "160                  2             20           5000                  45   \n",
       "358                  1             24           6000                  77   \n",
       "\n",
       "     donated_march_2017  fraction_month  \n",
       "619                   1        0.510204  \n",
       "664                   1        0.464286  \n",
       "441                   1        0.457143  \n",
       "160                   1        0.444444  \n",
       "358                   0        0.311688  "
      ]
     },
     "execution_count": 18,
     "metadata": {},
     "output_type": "execute_result"
    }
   ],
   "source": [
    "# calculate the probability that a person will donate monthly by dividing the total number of donations \n",
    "# with the months_since_first column\n",
    "train['fraction_month'] = train['num_donations'] / train['months_since_first']\n",
    "train.head()"
   ]
  },
  {
   "cell_type": "code",
   "execution_count": 19,
   "metadata": {},
   "outputs": [
    {
     "data": {
      "text/html": [
       "<div>\n",
       "<style scoped>\n",
       "    .dataframe tbody tr th:only-of-type {\n",
       "        vertical-align: middle;\n",
       "    }\n",
       "\n",
       "    .dataframe tbody tr th {\n",
       "        vertical-align: top;\n",
       "    }\n",
       "\n",
       "    .dataframe thead th {\n",
       "        text-align: right;\n",
       "    }\n",
       "</style>\n",
       "<table border=\"1\" class=\"dataframe\">\n",
       "  <thead>\n",
       "    <tr style=\"text-align: right;\">\n",
       "      <th></th>\n",
       "      <th>months_since_last</th>\n",
       "      <th>num_donations</th>\n",
       "      <th>tot_volume_cc</th>\n",
       "      <th>months_since_first</th>\n",
       "      <th>fraction_month</th>\n",
       "    </tr>\n",
       "    <tr>\n",
       "      <th>donated_march_2017</th>\n",
       "      <th></th>\n",
       "      <th></th>\n",
       "      <th></th>\n",
       "      <th></th>\n",
       "      <th></th>\n",
       "    </tr>\n",
       "  </thead>\n",
       "  <tbody>\n",
       "    <tr>\n",
       "      <th>0</th>\n",
       "      <td>10.636986</td>\n",
       "      <td>4.716895</td>\n",
       "      <td>1179.223744</td>\n",
       "      <td>34.319635</td>\n",
       "      <td>0.177850</td>\n",
       "    </tr>\n",
       "    <tr>\n",
       "      <th>1</th>\n",
       "      <td>5.637681</td>\n",
       "      <td>7.681159</td>\n",
       "      <td>1920.289855</td>\n",
       "      <td>33.195652</td>\n",
       "      <td>0.266147</td>\n",
       "    </tr>\n",
       "  </tbody>\n",
       "</table>\n",
       "</div>"
      ],
      "text/plain": [
       "                    months_since_last  num_donations  tot_volume_cc  \\\n",
       "donated_march_2017                                                    \n",
       "0                           10.636986       4.716895    1179.223744   \n",
       "1                            5.637681       7.681159    1920.289855   \n",
       "\n",
       "                    months_since_first  fraction_month  \n",
       "donated_march_2017                                      \n",
       "0                            34.319635        0.177850  \n",
       "1                            33.195652        0.266147  "
      ]
     },
     "execution_count": 19,
     "metadata": {},
     "output_type": "execute_result"
    }
   ],
   "source": [
    "grouped = train.groupby('donated_march_2017')\n",
    "grouped.mean()"
   ]
  },
  {
   "cell_type": "code",
   "execution_count": 20,
   "metadata": {},
   "outputs": [
    {
     "data": {
      "text/html": [
       "<div>\n",
       "<style scoped>\n",
       "    .dataframe tbody tr th:only-of-type {\n",
       "        vertical-align: middle;\n",
       "    }\n",
       "\n",
       "    .dataframe tbody tr th {\n",
       "        vertical-align: top;\n",
       "    }\n",
       "\n",
       "    .dataframe thead th {\n",
       "        text-align: right;\n",
       "    }\n",
       "</style>\n",
       "<table border=\"1\" class=\"dataframe\">\n",
       "  <thead>\n",
       "    <tr style=\"text-align: right;\">\n",
       "      <th></th>\n",
       "      <th>months_since_last</th>\n",
       "      <th>num_donations</th>\n",
       "      <th>tot_volume_cc</th>\n",
       "      <th>months_since_first</th>\n",
       "      <th>fraction_month</th>\n",
       "    </tr>\n",
       "  </thead>\n",
       "  <tbody>\n",
       "    <tr>\n",
       "      <th>659</th>\n",
       "      <td>2</td>\n",
       "      <td>12</td>\n",
       "      <td>3000</td>\n",
       "      <td>52</td>\n",
       "      <td>0.230769</td>\n",
       "    </tr>\n",
       "    <tr>\n",
       "      <th>276</th>\n",
       "      <td>21</td>\n",
       "      <td>7</td>\n",
       "      <td>1750</td>\n",
       "      <td>38</td>\n",
       "      <td>0.184211</td>\n",
       "    </tr>\n",
       "    <tr>\n",
       "      <th>263</th>\n",
       "      <td>4</td>\n",
       "      <td>1</td>\n",
       "      <td>250</td>\n",
       "      <td>4</td>\n",
       "      <td>0.250000</td>\n",
       "    </tr>\n",
       "    <tr>\n",
       "      <th>303</th>\n",
       "      <td>11</td>\n",
       "      <td>11</td>\n",
       "      <td>2750</td>\n",
       "      <td>38</td>\n",
       "      <td>0.289474</td>\n",
       "    </tr>\n",
       "    <tr>\n",
       "      <th>83</th>\n",
       "      <td>4</td>\n",
       "      <td>12</td>\n",
       "      <td>3000</td>\n",
       "      <td>34</td>\n",
       "      <td>0.352941</td>\n",
       "    </tr>\n",
       "  </tbody>\n",
       "</table>\n",
       "</div>"
      ],
      "text/plain": [
       "     months_since_last  num_donations  tot_volume_cc  months_since_first  \\\n",
       "659                  2             12           3000                  52   \n",
       "276                 21              7           1750                  38   \n",
       "263                  4              1            250                   4   \n",
       "303                 11             11           2750                  38   \n",
       "83                   4             12           3000                  34   \n",
       "\n",
       "     fraction_month  \n",
       "659        0.230769  \n",
       "276        0.184211  \n",
       "263        0.250000  \n",
       "303        0.289474  \n",
       "83         0.352941  "
      ]
     },
     "execution_count": 20,
     "metadata": {},
     "output_type": "execute_result"
    }
   ],
   "source": [
    "# do the same for the test set\n",
    "test['fraction_month'] = test['num_donations'] / test['months_since_first']\n",
    "test.head()"
   ]
  },
  {
   "cell_type": "code",
   "execution_count": 21,
   "metadata": {},
   "outputs": [],
   "source": [
    "columns_to_include = ['months_since_last','fraction_month','num_donations','tot_volume_cc', 'months_since_first']"
   ]
  },
  {
   "cell_type": "code",
   "execution_count": 22,
   "metadata": {},
   "outputs": [],
   "source": [
    "# select columns to train for this model drop total volume since this is a functon of the num of donations\n",
    "X_train = train[columns_to_include]\n",
    "y_train = train['donated_march_2017']\n",
    "X_test = test[columns_to_include]"
   ]
  },
  {
   "cell_type": "code",
   "execution_count": 23,
   "metadata": {},
   "outputs": [
    {
     "data": {
      "text/html": [
       "<div>\n",
       "<style scoped>\n",
       "    .dataframe tbody tr th:only-of-type {\n",
       "        vertical-align: middle;\n",
       "    }\n",
       "\n",
       "    .dataframe tbody tr th {\n",
       "        vertical-align: top;\n",
       "    }\n",
       "\n",
       "    .dataframe thead th {\n",
       "        text-align: right;\n",
       "    }\n",
       "</style>\n",
       "<table border=\"1\" class=\"dataframe\">\n",
       "  <thead>\n",
       "    <tr style=\"text-align: right;\">\n",
       "      <th></th>\n",
       "      <th>months_since_last</th>\n",
       "      <th>fraction_month</th>\n",
       "      <th>num_donations</th>\n",
       "      <th>tot_volume_cc</th>\n",
       "      <th>months_since_first</th>\n",
       "    </tr>\n",
       "  </thead>\n",
       "  <tbody>\n",
       "    <tr>\n",
       "      <th>619</th>\n",
       "      <td>0.027027</td>\n",
       "      <td>0.503495</td>\n",
       "      <td>1.000000</td>\n",
       "      <td>1.000000</td>\n",
       "      <td>1.000000</td>\n",
       "    </tr>\n",
       "    <tr>\n",
       "      <th>664</th>\n",
       "      <td>0.000000</td>\n",
       "      <td>0.456947</td>\n",
       "      <td>0.244898</td>\n",
       "      <td>0.244898</td>\n",
       "      <td>0.270833</td>\n",
       "    </tr>\n",
       "    <tr>\n",
       "      <th>441</th>\n",
       "      <td>0.013514</td>\n",
       "      <td>0.449706</td>\n",
       "      <td>0.306122</td>\n",
       "      <td>0.306122</td>\n",
       "      <td>0.343750</td>\n",
       "    </tr>\n",
       "    <tr>\n",
       "      <th>160</th>\n",
       "      <td>0.027027</td>\n",
       "      <td>0.436834</td>\n",
       "      <td>0.387755</td>\n",
       "      <td>0.387755</td>\n",
       "      <td>0.447917</td>\n",
       "    </tr>\n",
       "    <tr>\n",
       "      <th>358</th>\n",
       "      <td>0.013514</td>\n",
       "      <td>0.302259</td>\n",
       "      <td>0.469388</td>\n",
       "      <td>0.469388</td>\n",
       "      <td>0.781250</td>\n",
       "    </tr>\n",
       "  </tbody>\n",
       "</table>\n",
       "</div>"
      ],
      "text/plain": [
       "     months_since_last  fraction_month  num_donations  tot_volume_cc  \\\n",
       "619           0.027027        0.503495       1.000000       1.000000   \n",
       "664           0.000000        0.456947       0.244898       0.244898   \n",
       "441           0.013514        0.449706       0.306122       0.306122   \n",
       "160           0.027027        0.436834       0.387755       0.387755   \n",
       "358           0.013514        0.302259       0.469388       0.469388   \n",
       "\n",
       "     months_since_first  \n",
       "619            1.000000  \n",
       "664            0.270833  \n",
       "441            0.343750  \n",
       "160            0.447917  \n",
       "358            0.781250  "
      ]
     },
     "execution_count": 23,
     "metadata": {},
     "output_type": "execute_result"
    }
   ],
   "source": [
    "# scale the values using MinMaxScaler\n",
    "\n",
    "from sklearn import preprocessing\n",
    "\n",
    "min_max_scaler = preprocessing.MinMaxScaler()\n",
    "\n",
    "X_scaled_train = min_max_scaler.fit_transform(X_train)\n",
    "X_normalized_train = pd.DataFrame(X_scaled_train, index = X_train.index, columns = X_train.columns)\n",
    "\n",
    "X_normalized_train.head()"
   ]
  },
  {
   "cell_type": "code",
   "execution_count": 24,
   "metadata": {},
   "outputs": [
    {
     "data": {
      "text/html": [
       "<div>\n",
       "<style scoped>\n",
       "    .dataframe tbody tr th:only-of-type {\n",
       "        vertical-align: middle;\n",
       "    }\n",
       "\n",
       "    .dataframe tbody tr th {\n",
       "        vertical-align: top;\n",
       "    }\n",
       "\n",
       "    .dataframe thead th {\n",
       "        text-align: right;\n",
       "    }\n",
       "</style>\n",
       "<table border=\"1\" class=\"dataframe\">\n",
       "  <thead>\n",
       "    <tr style=\"text-align: right;\">\n",
       "      <th></th>\n",
       "      <th>months_since_last</th>\n",
       "      <th>fraction_month</th>\n",
       "      <th>num_donations</th>\n",
       "      <th>tot_volume_cc</th>\n",
       "      <th>months_since_first</th>\n",
       "    </tr>\n",
       "  </thead>\n",
       "  <tbody>\n",
       "    <tr>\n",
       "      <th>count</th>\n",
       "      <td>200.000000</td>\n",
       "      <td>200.000000</td>\n",
       "      <td>200.000000</td>\n",
       "      <td>200.000000</td>\n",
       "      <td>200.000000</td>\n",
       "    </tr>\n",
       "    <tr>\n",
       "      <th>mean</th>\n",
       "      <td>0.237375</td>\n",
       "      <td>0.309485</td>\n",
       "      <td>0.123375</td>\n",
       "      <td>0.123375</td>\n",
       "      <td>0.348698</td>\n",
       "    </tr>\n",
       "    <tr>\n",
       "      <th>std</th>\n",
       "      <td>0.190477</td>\n",
       "      <td>0.233910</td>\n",
       "      <td>0.153131</td>\n",
       "      <td>0.153131</td>\n",
       "      <td>0.261575</td>\n",
       "    </tr>\n",
       "    <tr>\n",
       "      <th>min</th>\n",
       "      <td>0.000000</td>\n",
       "      <td>0.000000</td>\n",
       "      <td>0.000000</td>\n",
       "      <td>0.000000</td>\n",
       "      <td>0.000000</td>\n",
       "    </tr>\n",
       "    <tr>\n",
       "      <th>25%</th>\n",
       "      <td>0.100000</td>\n",
       "      <td>0.125893</td>\n",
       "      <td>0.025000</td>\n",
       "      <td>0.025000</td>\n",
       "      <td>0.125000</td>\n",
       "    </tr>\n",
       "    <tr>\n",
       "      <th>50%</th>\n",
       "      <td>0.175000</td>\n",
       "      <td>0.259127</td>\n",
       "      <td>0.075000</td>\n",
       "      <td>0.075000</td>\n",
       "      <td>0.302083</td>\n",
       "    </tr>\n",
       "    <tr>\n",
       "      <th>75%</th>\n",
       "      <td>0.350000</td>\n",
       "      <td>0.420772</td>\n",
       "      <td>0.175000</td>\n",
       "      <td>0.175000</td>\n",
       "      <td>0.520833</td>\n",
       "    </tr>\n",
       "    <tr>\n",
       "      <th>max</th>\n",
       "      <td>1.000000</td>\n",
       "      <td>1.000000</td>\n",
       "      <td>1.000000</td>\n",
       "      <td>1.000000</td>\n",
       "      <td>1.000000</td>\n",
       "    </tr>\n",
       "  </tbody>\n",
       "</table>\n",
       "</div>"
      ],
      "text/plain": [
       "       months_since_last  fraction_month  num_donations  tot_volume_cc  \\\n",
       "count         200.000000      200.000000     200.000000     200.000000   \n",
       "mean            0.237375        0.309485       0.123375       0.123375   \n",
       "std             0.190477        0.233910       0.153131       0.153131   \n",
       "min             0.000000        0.000000       0.000000       0.000000   \n",
       "25%             0.100000        0.125893       0.025000       0.025000   \n",
       "50%             0.175000        0.259127       0.075000       0.075000   \n",
       "75%             0.350000        0.420772       0.175000       0.175000   \n",
       "max             1.000000        1.000000       1.000000       1.000000   \n",
       "\n",
       "       months_since_first  \n",
       "count          200.000000  \n",
       "mean             0.348698  \n",
       "std              0.261575  \n",
       "min              0.000000  \n",
       "25%              0.125000  \n",
       "50%              0.302083  \n",
       "75%              0.520833  \n",
       "max              1.000000  "
      ]
     },
     "execution_count": 24,
     "metadata": {},
     "output_type": "execute_result"
    }
   ],
   "source": [
    "X_scaled_test = min_max_scaler.fit_transform(X_test)\n",
    "X_normalized_test = pd.DataFrame(X_scaled_test, index = X_test.index, columns = X_test.columns)\n",
    "\n",
    "X_normalized_test.describe()"
   ]
  },
  {
   "cell_type": "code",
   "execution_count": 25,
   "metadata": {},
   "outputs": [
    {
     "data": {
      "text/plain": [
       "0.4949993494293301"
      ]
     },
     "execution_count": 25,
     "metadata": {},
     "output_type": "execute_result"
    }
   ],
   "source": [
    "from sklearn.linear_model import LogisticRegression\n",
    "from sklearn.metrics import log_loss\n",
    "\n",
    "logreg = LogisticRegression()\n",
    "logreg.fit(X_normalized_train,y_train)\n",
    "predict = logreg.predict(X_normalized_train)\n",
    "proba = logreg.predict_proba(X_normalized_train)\n",
    "\n",
    "log_loss(y_train,proba[:,1])"
   ]
  },
  {
   "cell_type": "code",
   "execution_count": 26,
   "metadata": {},
   "outputs": [],
   "source": [
    "predict_test = logreg.predict_proba(X_normalized_test)\n",
    "submission = pd.DataFrame(predict_test[:,1], index = test.index, columns = ['Made Donation in March 2007'])\n",
    "submission.to_csv('results/log_reg_vanilla.csv')"
   ]
  },
  {
   "cell_type": "markdown",
   "metadata": {},
   "source": [
    "## Evaluating the model"
   ]
  },
  {
   "cell_type": "code",
   "execution_count": 27,
   "metadata": {},
   "outputs": [
    {
     "data": {
      "text/plain": [
       "0.7638888888888888"
      ]
     },
     "execution_count": 27,
     "metadata": {},
     "output_type": "execute_result"
    }
   ],
   "source": [
    "from sklearn.metrics import confusion_matrix, accuracy_score, classification_report\n",
    "\n",
    "conf_matrix = confusion_matrix(predict, y_train)\n",
    "accuracy = accuracy_score(predict,y_train)\n",
    "accuracy"
   ]
  },
  {
   "cell_type": "code",
   "execution_count": 28,
   "metadata": {},
   "outputs": [
    {
     "data": {
      "image/png": "[encoded data removed]",
      "text/plain": [
       "<Figure size 432x288 with 2 Axes>"
      ]
     },
     "metadata": {},
     "output_type": "display_data"
    }
   ],
   "source": [
    "sns.heatmap(conf_matrix, annot = True, fmt='d')\n",
    "plt.tight_layout()\n",
    "plt.savefig('images/confusion_matrix.png')\n",
    "plt.show()"
   ]
  },
  {
   "cell_type": "code",
   "execution_count": 29,
   "metadata": {},
   "outputs": [
    {
     "name": "stdout",
     "output_type": "stream",
     "text": [
      "             precision    recall  f1-score   support\n",
      "\n",
      "          0       0.98      0.77      0.86       560\n",
      "          1       0.07      0.56      0.12        16\n",
      "\n",
      "avg / total       0.96      0.76      0.84       576\n",
      "\n"
     ]
    }
   ],
   "source": [
    "print(classification_report(predict,y_train))"
   ]
  },
  {
   "cell_type": "code",
   "execution_count": 30,
   "metadata": {},
   "outputs": [
    {
     "data": {
      "image/png": "[encoded data removed]",
      "text/plain": [
       "<Figure size 432x288 with 1 Axes>"
      ]
     },
     "metadata": {},
     "output_type": "display_data"
    }
   ],
   "source": [
    "from sklearn.metrics import roc_curve\n",
    "fpr, tpr, thresholds = roc_curve(predict, y_train)\n",
    "\n",
    "def plot_roc_curve(fpr, tpr, label=None): \n",
    "        plt.plot(fpr, tpr, linewidth=2, label=label) \n",
    "        plt.plot([0, 1], [0, 1], 'k--') \n",
    "        plt.axis([0, 1, 0, 1])\n",
    "        plt.xlabel('False Positive Rate')\n",
    "        plt.ylabel('True Positive Rate')\n",
    "        plt.title('ROC Curve')\n",
    "\n",
    "plot_roc_curve(fpr, tpr)\n",
    "plt.tight_layout()\n",
    "plt.savefig('images/roc_curve.png')\n",
    "plt.show()\n"
   ]
  },
  {
   "cell_type": "markdown",
   "metadata": {},
   "source": [
    "## Improving the model"
   ]
  },
  {
   "cell_type": "code",
   "execution_count": null,
   "metadata": {},
   "outputs": [],
   "source": [
    "from sklearn.linear_model import SGDClassifier\n",
    "from sklearn.metrics import log_loss\n",
    "\n",
    "sgd = SGDClassifier(loss='log', max_iter = 100000)\n",
    "sgd.fit(X_normalized_train,y_train)\n",
    "predict_sgd = sgd.predict(X_normalized_train)\n",
    "proba_sgd = sgd.predict_proba(X_normalized_train)\n",
    "\n",
    "log_loss(y_train,proba_sgd[:,1])"
   ]
  },
  {
   "cell_type": "code",
   "execution_count": null,
   "metadata": {},
   "outputs": [],
   "source": [
    "conf_matrix_sgd = confusion_matrix(predict_sgd, y_train)\n",
    "accuracy_sgd = accuracy_score(predict_sgd,y_train)\n",
    "accuracy_sgd"
   ]
  },
  {
   "cell_type": "code",
   "execution_count": null,
   "metadata": {},
   "outputs": [],
   "source": [
    "conf_sgd = conf_matrix_sgd"
   ]
  },
  {
   "cell_type": "code",
   "execution_count": null,
   "metadata": {},
   "outputs": [],
   "source": [
    "predict_test = sgd.predict_proba(X_normalized_test)\n",
    "submission = pd.DataFrame(predict_test[:,1], index = test.index, columns = ['Made Donation in March 2007'])\n",
    "submission.to_csv('results/sgd.csv')"
   ]
  },
  {
   "cell_type": "code",
   "execution_count": null,
   "metadata": {},
   "outputs": [],
   "source": [
    "print(classification_report(predict_sgd,y_train))"
   ]
  },
  {
   "cell_type": "code",
   "execution_count": null,
   "metadata": {},
   "outputs": [],
   "source": [
    "sns.heatmap(conf_sgd, annot = True, fmt='d')\n",
    "plt.tight_layout()\n",
    "plt.savefig('images/confusion_matrix_sgd.png')\n",
    "plt.show()"
   ]
  },
  {
   "cell_type": "code",
   "execution_count": null,
   "metadata": {},
   "outputs": [],
   "source": [
    "# import the modules, build the classifier, train on the data, and make predictions\n",
    "\n",
    "from sklearn.tree import DecisionTreeClassifier\n",
    "from sklearn.model_selection import GridSearchCV\n",
    "import time\n",
    "\n",
    "start_time = time.time()\n",
    "\n",
    "# populate the parameter grid\n",
    "param_grid = {\"max_depth\": list(range(1,10)),\n",
    "              \"max_features\": list(range(1,4)),\n",
    "              \"min_samples_leaf\": list(range(1,20)),\n",
    "              \"criterion\": [\"gini\", \"entropy\"]}\n",
    "\n",
    "\n",
    "clf = DecisionTreeClassifier()\n",
    "grid_search = GridSearchCV(clf,param_grid,cv=5)\n",
    "grid_search.fit(X_normalized_train,y_train)\n",
    "\n",
    "print('Training set score for Decision Tree: {:.10f}'.format(grid_search.score(X_normalized_train,y_train)))\n",
    "print('Best parameters: {}'.format(grid_search.best_params_))\n",
    "print(\"--- %s seconds ---\" % (time.time() - start_time))"
   ]
  },
  {
   "cell_type": "code",
   "execution_count": null,
   "metadata": {},
   "outputs": [],
   "source": [
    "prob_tree = grid_search.predict_proba(X_normalized_test)\n",
    "predict_tree = grid_search.predict(X_normalized_train)\n",
    "conf_tree = confusion_matrix(grid_search.predict(X_normalized_train),y_train)"
   ]
  },
  {
   "cell_type": "code",
   "execution_count": null,
   "metadata": {},
   "outputs": [],
   "source": [
    "conf_tree"
   ]
  },
  {
   "cell_type": "code",
   "execution_count": null,
   "metadata": {},
   "outputs": [],
   "source": [
    "print(classification_report(predict_tree,y_train))"
   ]
  },
  {
   "cell_type": "code",
   "execution_count": null,
   "metadata": {},
   "outputs": [],
   "source": [
    "submission = pd.DataFrame(prob_tree[:,1], index = test.index, columns = ['Made Donation in March 2007'])\n",
    "submission.to_csv('results/tree.csv')"
   ]
  }
 ],
 "metadata": {
  "kernelspec": {
   "display_name": "Python 3",
   "language": "python",
   "name": "python3"
  },
  "language_info": {
   "codemirror_mode": {
    "name": "ipython",
    "version": 3
   },
   "file_extension": ".py",
   "mimetype": "text/x-python",
   "name": "python",
   "nbconvert_exporter": "python",
   "pygments_lexer": "ipython3",
   "version": "3.6.5"
  }
 },
 "nbformat": 4,
 "nbformat_minor": 2
}
